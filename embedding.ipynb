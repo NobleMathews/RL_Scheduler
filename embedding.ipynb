{
 "cells": [
  {
   "cell_type": "code",
   "execution_count": 2,
   "outputs": [],
   "source": [
    "import tensorflow as tf\n",
    "from keras.layers import Embedding, Dense, LSTM\n",
    "from keras.losses import BinaryCrossentropy\n",
    "from keras.models import Sequential\n",
    "from keras.optimizers import Adam"
   ],
   "metadata": {
    "collapsed": false
   }
  },
  {
   "cell_type": "code",
   "execution_count": 3,
   "outputs": [],
   "source": [
    "import numpy as np\n",
    "\n",
    "def generate_general_mip(num_vars, num_constrs, dens, rng, max_constr_coeff=100, max_obj_coeff=100, max_solution_value=100, ensure_solution=True, logging=False):\n",
    "    \"\"\"Generate general MIP instance.\n",
    "    TODO: fill in generation details.\n",
    "    :param num_vars: number of variables\n",
    "    type: int, should be positive\n",
    "    :param num_constrs: number of constraints\n",
    "    type: int, should be positive\n",
    "    :param dens: density of constraint matrix\n",
    "    type: float, should be in (0, 1)\n",
    "    :param rng: random number generator\n",
    "    type: `np.random.RandomState` object or other objects that have `randint` method\n",
    "    :param max_constr_coeff: maximal value of constraints coefficient. By default 100.\n",
    "    type: int, should be positive\n",
    "    :param max_obj_coeff: maximal value of objective coefficient. By default 100.\n",
    "    type: int, should be positive\n",
    "    :param max_solution_value: maximal value of solution coefficient. By default 100.\n",
    "    type: int, should be positive\n",
    "    :param ensure_solution: whether to ensure a integral solution in the problem. By default True\n",
    "    type: bool\n",
    "    :param logging: whether to print the logging info\n",
    "    type: bool\n",
    "\n",
    "    :returns: (A, b, c, integral_list)\n",
    "        A, b, c: parameter for MIP problem, in standard format `max c @ x,  s.t. A @ x <= b`.\n",
    "        integral_list: whether the variable is integer. 1 means the variable at the corresponding\n",
    "            position is integral.\n",
    "        sense: sense of the objective, \"MIN\" or \"MAX\".\n",
    "    :rtype:\n",
    "        A: np.array of shape (num_constrs, num_vars)\n",
    "        b: np.array of shape (num_vars,)\n",
    "        c: np.array of shape (num_vars,)\n",
    "        integral_list: np.array of shape (num_vars,)\n",
    "        sense: string\n",
    "    \"\"\"\n",
    "    nnzrs = int(num_constrs * num_vars * dens)\n",
    "    assert nnzrs >= num_constrs and nnzrs >= 2 * num_vars\n",
    "\n",
    "    row_nz_elem_split = sorted(rng.choice(np.arange(1, nnzrs), num_constrs, replace=False).tolist(), reverse=True) + [0]\n",
    "    row_nz_elem_num = np.array([row_nz_elem_split[i] - row_nz_elem_split[i+1] for i in range(num_constrs)])\n",
    "    col_idx_list = rng.randint(low=0, high=num_vars, size=(nnzrs,))\n",
    "    col_idx_list[rng.choice(nnzrs, num_vars * 2, replace=False)] = np.repeat(np.arange(num_vars), 2)\n",
    "\n",
    "    if logging:\n",
    "        print(\"Number of non-zero elements for each row:\\n\\t\", end=\"\")\n",
    "        print(row_nz_elem_num)\n",
    "        print(\"Column index of non-zero elements:\\n\\t\", end=\"\")\n",
    "        print(col_idx_list)\n",
    "\n",
    "    ensured_solution = rng.randint(low=0, high=max_solution_value, size=(num_vars,))\n",
    "    if logging:\n",
    "        print(\"Ensured solution:\\n\\t\", ensured_solution)\n",
    "\n",
    "    A_list = []\n",
    "    b_list = []\n",
    "    elem_idx = 0\n",
    "    for i in range(num_constrs):\n",
    "        a = np.zeros(shape=(num_vars,))\n",
    "        a[col_idx_list[elem_idx : elem_idx + row_nz_elem_num[i]]] = \\\n",
    "            rng.randint(low=1, high=max_constr_coeff, size=(row_nz_elem_num[i],))\n",
    "        if ensure_solution:\n",
    "            b = rng.randint(low=a @ ensured_solution.T, high=5 * a @ ensured_solution.T)\n",
    "        else:\n",
    "            b = rng.randint(high=max_constr_coeff * max_solution_value)\n",
    "        A_list.append(a)\n",
    "        b_list.append(b)\n",
    "        elem_idx += row_nz_elem_num[i]\n",
    "\n",
    "    A = np.vstack(A_list)\n",
    "    b = np.hstack(b_list)\n",
    "    c = rng.randint(low=1, high=max_obj_coeff, size=num_vars)\n",
    "\n",
    "    if logging:\n",
    "        print(\"A:\\n\\t\", A)\n",
    "        print(\"b:\\n\\t\", b)\n",
    "        print(\"c:\\n\\t\", c)\n",
    "        if ensure_solution:\n",
    "            print(\"Checking A @ ensured_solution <= b:\\n\\t\", np.all(A @ ensured_solution.T <= b))\n",
    "\n",
    "    return A, b, c, np.ones(shape=(num_vars,)), \"MAX\"\n"
   ],
   "metadata": {
    "collapsed": false
   }
  },
  {
   "cell_type": "code",
   "execution_count": 13,
   "outputs": [
    {
     "name": "stdout",
     "output_type": "stream",
     "text": [
      "Number of non-zero elements for each row:\n",
      "\t[2 1]\n",
      "Column index of non-zero elements:\n",
      "\t[2 1 1 0 2 0]\n",
      "Ensured solution:\n",
      "\t [39 87 46]\n",
      "A:\n",
      "\t [[ 0. 82. 89.]\n",
      " [ 0. 78.  0.]]\n",
      "b:\n",
      "\t [28149 13002]\n",
      "c:\n",
      "\t [10 21 81]\n",
      "Checking A @ ensured_solution <= b:\n",
      "\t True\n"
     ]
    }
   ],
   "source": [
    "A, b, c, integral_list, sense = generate_general_mip(3, 2, 1, np.random.RandomState(0), logging=True)"
   ],
   "metadata": {
    "collapsed": false
   }
  },
  {
   "cell_type": "code",
   "execution_count": null,
   "outputs": [],
   "source": [
    "# Model configuration\n",
    "additional_metrics = ['accuracy']\n",
    "batch_size = 128\n",
    "embedding_output_dims = 15\n",
    "loss_function = BinaryCrossentropy()\n",
    "max_sequence_length = 300\n",
    "num_distinct_words = 5000\n",
    "number_of_epochs = 5\n",
    "optimizer = Adam()\n",
    "validation_split = 0.20\n",
    "verbosity_mode = 1\n",
    "\n",
    "# Disable eager execution\n",
    "tf.compat.v1.disable_eager_execution()\n",
    "\n",
    "# Load dataset\n",
    "(x_train, y_train), (x_test, y_test) = imdb.load_data(num_words=num_distinct_words)\n",
    "print(x_train.shape)\n",
    "print(x_test.shape)\n",
    "\n",
    "# Pad all sequences\n",
    "padded_inputs = pad_sequences(x_train, maxlen=max_sequence_length, value = 0.0) # 0.0 because it corresponds with <PAD>\n",
    "padded_inputs_test = pad_sequences(x_test, maxlen=max_sequence_length, value = 0.0) # 0.0 because it corresponds with <PAD>\n",
    "\n",
    "# Define the Keras model\n",
    "model = Sequential()\n",
    "model.add(Embedding(num_distinct_words, embedding_output_dims, input_length=max_sequence_length))\n",
    "model.add(LSTM(10))\n",
    "model.add(Dense(1, activation='sigmoid'))\n",
    "\n",
    "# Compile the model\n",
    "model.compile(optimizer=optimizer, loss=loss_function, metrics=additional_metrics)\n",
    "\n",
    "# Give a summary\n",
    "model.summary()\n",
    "\n",
    "# Train the model\n",
    "history = model.fit(padded_inputs, y_train, batch_size=batch_size, epochs=number_of_epochs, verbose=verbosity_mode, validation_split=validation_split)\n",
    "\n",
    "# Test the model after training\n",
    "test_results = model.evaluate(padded_inputs_test, y_test, verbose=False)\n",
    "print(f'Test results - Loss: {test_results[0]} - Accuracy: {100*test_results[1]}%')"
   ],
   "metadata": {
    "collapsed": false
   }
  }
 ],
 "metadata": {
  "kernelspec": {
   "display_name": "Python 3",
   "language": "python",
   "name": "python3"
  },
  "language_info": {
   "codemirror_mode": {
    "name": "ipython",
    "version": 2
   },
   "file_extension": ".py",
   "mimetype": "text/x-python",
   "name": "python",
   "nbconvert_exporter": "python",
   "pygments_lexer": "ipython2",
   "version": "2.7.6"
  }
 },
 "nbformat": 4,
 "nbformat_minor": 0
}
